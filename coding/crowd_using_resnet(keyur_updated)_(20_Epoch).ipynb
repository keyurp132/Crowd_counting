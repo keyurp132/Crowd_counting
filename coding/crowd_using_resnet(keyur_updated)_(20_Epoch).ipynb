{
  "metadata": {
    "kernelspec": {
      "language": "python",
      "display_name": "Python 3",
      "name": "python3"
    },
    "language_info": {
      "name": "python",
      "version": "3.7.12",
      "mimetype": "text/x-python",
      "codemirror_mode": {
        "name": "ipython",
        "version": 3
      },
      "pygments_lexer": "ipython3",
      "nbconvert_exporter": "python",
      "file_extension": ".py"
    },
    "colab": {
      "provenance": [],
      "collapsed_sections": []
    },
    "accelerator": "GPU",
    "gpuClass": "standard"
  },
  "nbformat_minor": 0,
  "nbformat": 4,
  "cells": [
    {
      "cell_type": "markdown",
      "source": [
        "### The preprocessing steps are taken from kaggle notebook"
      ],
      "metadata": {
        "id": "So0xTunKNvJE"
      }
    },
    {
      "cell_type": "code",
      "source": [
        "import numpy as np\n",
        "import pandas as pd \n",
        "import seaborn as sns\n",
        "import matplotlib.pyplot as plt\n",
        "import shutil\n",
        "from sklearn.model_selection import train_test_split\n",
        "import tensorflow as tf\n",
        "from sklearn.model_selection import train_test_split\n",
        "import numpy as np \n",
        "import pandas as pd \n",
        "\n",
        "\n",
        "import os\n",
        "import tensorflow as tf\n",
        "import cv2\n",
        "from tensorflow.keras import layers\n",
        "from tensorflow.keras.layers import Input, Add, Dense, Dropout, Activation, ZeroPadding2D, BatchNormalization, Flatten, Conv2D, AveragePooling2D, MaxPooling2D, GlobalMaxPooling2D,GlobalAveragePooling2D,Concatenate, ReLU, LeakyReLU,Reshape, Lambda\n",
        "from tensorflow.keras.callbacks import ModelCheckpoint, LearningRateScheduler, EarlyStopping, ReduceLROnPlateau\n",
        "from tensorflow.keras.optimizers import Adam,SGD\n",
        "from tensorflow.keras.preprocessing.image import ImageDataGenerator\n",
        "from tensorflow.keras.models import Sequential, load_model, Model\n",
        "from tensorflow.keras.callbacks import LearningRateScheduler\n",
        "from tensorflow.keras.preprocessing import image\n",
        "from tensorflow.keras.utils import to_categorical\n",
        "from tensorflow.keras import metrics\n",
        "from tensorflow.keras.preprocessing import image\n",
        "from tensorflow.keras.applications.imagenet_utils import preprocess_input\n",
        "from tensorflow.keras.initializers import glorot_uniform\n",
        "from tqdm import tqdm\n",
        "import imgaug as ia\n",
        "from imgaug import augmenters as iaa\n",
        "from PIL import Image\n",
        "import keras.backend as K\n",
        "K.set_image_data_format('channels_last')\n",
        "K.set_learning_phase(1)\n"
      ],
      "metadata": {
        "_uuid": "8f2839f25d086af736a60e9eeb907d3b93b6e0e5",
        "_cell_guid": "b1076dfc-b9ad-4769-8c92-a6c4dae69d19",
        "id": "7rEbeOv1FurT",
        "execution": {
          "iopub.status.busy": "2022-08-06T20:15:40.072630Z",
          "iopub.execute_input": "2022-08-06T20:15:40.073002Z",
          "iopub.status.idle": "2022-08-06T20:15:40.079339Z",
          "shell.execute_reply.started": "2022-08-06T20:15:40.072970Z",
          "shell.execute_reply": "2022-08-06T20:15:40.078395Z"
        },
        "trusted": true,
        "colab": {
          "base_uri": "https://localhost:8080/"
        },
        "outputId": "4f565caa-857a-4366-c7d2-c8e08c3c3c34"
      },
      "execution_count": 2,
      "outputs": [
        {
          "output_type": "stream",
          "name": "stderr",
          "text": [
            "/usr/local/lib/python3.7/dist-packages/keras/backend.py:450: UserWarning: `tf.keras.backend.set_learning_phase` is deprecated and will be removed after 2020-10-11. To update it, simply pass a True/False value to the `training` argument of the `__call__` method of your layer or model.\n",
            "  warnings.warn('`tf.keras.backend.set_learning_phase` is deprecated and '\n"
          ]
        }
      ]
    },
    {
      "cell_type": "code",
      "source": [
        "# getting the labels corresponding to the image\n",
        "label_df = pd.read_csv('/content/drive/My Drive/crowd-counting/labels.csv')\n",
        "label_df.columns = ['id' , 'people']\n",
        "label_df.head()"
      ],
      "metadata": {
        "_uuid": "d629ff2d2480ee46fbb7e2d37f6b5fab8052498a",
        "_cell_guid": "79c7e3d0-c299-4dcb-8224-4455121ee9b0",
        "id": "K8fzUrvRFurW",
        "outputId": "8eb0be80-b572-4d5b-8383-3d6c953a9d24",
        "execution": {
          "iopub.status.busy": "2022-08-06T20:15:40.091978Z",
          "iopub.execute_input": "2022-08-06T20:15:40.092747Z",
          "iopub.status.idle": "2022-08-06T20:15:40.106769Z",
          "shell.execute_reply.started": "2022-08-06T20:15:40.092712Z",
          "shell.execute_reply": "2022-08-06T20:15:40.105828Z"
        },
        "trusted": true,
        "colab": {
          "base_uri": "https://localhost:8080/",
          "height": 206
        }
      },
      "execution_count": 3,
      "outputs": [
        {
          "output_type": "execute_result",
          "data": {
            "text/plain": [
              "   id  people\n",
              "0   1      35\n",
              "1   2      41\n",
              "2   3      41\n",
              "3   4      44\n",
              "4   5      41"
            ],
            "text/html": [
              "\n",
              "  <div id=\"df-79fedd52-459a-40d4-86ee-c1b348ddaac8\">\n",
              "    <div class=\"colab-df-container\">\n",
              "      <div>\n",
              "<style scoped>\n",
              "    .dataframe tbody tr th:only-of-type {\n",
              "        vertical-align: middle;\n",
              "    }\n",
              "\n",
              "    .dataframe tbody tr th {\n",
              "        vertical-align: top;\n",
              "    }\n",
              "\n",
              "    .dataframe thead th {\n",
              "        text-align: right;\n",
              "    }\n",
              "</style>\n",
              "<table border=\"1\" class=\"dataframe\">\n",
              "  <thead>\n",
              "    <tr style=\"text-align: right;\">\n",
              "      <th></th>\n",
              "      <th>id</th>\n",
              "      <th>people</th>\n",
              "    </tr>\n",
              "  </thead>\n",
              "  <tbody>\n",
              "    <tr>\n",
              "      <th>0</th>\n",
              "      <td>1</td>\n",
              "      <td>35</td>\n",
              "    </tr>\n",
              "    <tr>\n",
              "      <th>1</th>\n",
              "      <td>2</td>\n",
              "      <td>41</td>\n",
              "    </tr>\n",
              "    <tr>\n",
              "      <th>2</th>\n",
              "      <td>3</td>\n",
              "      <td>41</td>\n",
              "    </tr>\n",
              "    <tr>\n",
              "      <th>3</th>\n",
              "      <td>4</td>\n",
              "      <td>44</td>\n",
              "    </tr>\n",
              "    <tr>\n",
              "      <th>4</th>\n",
              "      <td>5</td>\n",
              "      <td>41</td>\n",
              "    </tr>\n",
              "  </tbody>\n",
              "</table>\n",
              "</div>\n",
              "      <button class=\"colab-df-convert\" onclick=\"convertToInteractive('df-79fedd52-459a-40d4-86ee-c1b348ddaac8')\"\n",
              "              title=\"Convert this dataframe to an interactive table.\"\n",
              "              style=\"display:none;\">\n",
              "        \n",
              "  <svg xmlns=\"http://www.w3.org/2000/svg\" height=\"24px\"viewBox=\"0 0 24 24\"\n",
              "       width=\"24px\">\n",
              "    <path d=\"M0 0h24v24H0V0z\" fill=\"none\"/>\n",
              "    <path d=\"M18.56 5.44l.94 2.06.94-2.06 2.06-.94-2.06-.94-.94-2.06-.94 2.06-2.06.94zm-11 1L8.5 8.5l.94-2.06 2.06-.94-2.06-.94L8.5 2.5l-.94 2.06-2.06.94zm10 10l.94 2.06.94-2.06 2.06-.94-2.06-.94-.94-2.06-.94 2.06-2.06.94z\"/><path d=\"M17.41 7.96l-1.37-1.37c-.4-.4-.92-.59-1.43-.59-.52 0-1.04.2-1.43.59L10.3 9.45l-7.72 7.72c-.78.78-.78 2.05 0 2.83L4 21.41c.39.39.9.59 1.41.59.51 0 1.02-.2 1.41-.59l7.78-7.78 2.81-2.81c.8-.78.8-2.07 0-2.86zM5.41 20L4 18.59l7.72-7.72 1.47 1.35L5.41 20z\"/>\n",
              "  </svg>\n",
              "      </button>\n",
              "      \n",
              "  <style>\n",
              "    .colab-df-container {\n",
              "      display:flex;\n",
              "      flex-wrap:wrap;\n",
              "      gap: 12px;\n",
              "    }\n",
              "\n",
              "    .colab-df-convert {\n",
              "      background-color: #E8F0FE;\n",
              "      border: none;\n",
              "      border-radius: 50%;\n",
              "      cursor: pointer;\n",
              "      display: none;\n",
              "      fill: #1967D2;\n",
              "      height: 32px;\n",
              "      padding: 0 0 0 0;\n",
              "      width: 32px;\n",
              "    }\n",
              "\n",
              "    .colab-df-convert:hover {\n",
              "      background-color: #E2EBFA;\n",
              "      box-shadow: 0px 1px 2px rgba(60, 64, 67, 0.3), 0px 1px 3px 1px rgba(60, 64, 67, 0.15);\n",
              "      fill: #174EA6;\n",
              "    }\n",
              "\n",
              "    [theme=dark] .colab-df-convert {\n",
              "      background-color: #3B4455;\n",
              "      fill: #D2E3FC;\n",
              "    }\n",
              "\n",
              "    [theme=dark] .colab-df-convert:hover {\n",
              "      background-color: #434B5C;\n",
              "      box-shadow: 0px 1px 3px 1px rgba(0, 0, 0, 0.15);\n",
              "      filter: drop-shadow(0px 1px 2px rgba(0, 0, 0, 0.3));\n",
              "      fill: #FFFFFF;\n",
              "    }\n",
              "  </style>\n",
              "\n",
              "      <script>\n",
              "        const buttonEl =\n",
              "          document.querySelector('#df-79fedd52-459a-40d4-86ee-c1b348ddaac8 button.colab-df-convert');\n",
              "        buttonEl.style.display =\n",
              "          google.colab.kernel.accessAllowed ? 'block' : 'none';\n",
              "\n",
              "        async function convertToInteractive(key) {\n",
              "          const element = document.querySelector('#df-79fedd52-459a-40d4-86ee-c1b348ddaac8');\n",
              "          const dataTable =\n",
              "            await google.colab.kernel.invokeFunction('convertToInteractive',\n",
              "                                                     [key], {});\n",
              "          if (!dataTable) return;\n",
              "\n",
              "          const docLinkHtml = 'Like what you see? Visit the ' +\n",
              "            '<a target=\"_blank\" href=https://colab.research.google.com/notebooks/data_table.ipynb>data table notebook</a>'\n",
              "            + ' to learn more about interactive tables.';\n",
              "          element.innerHTML = '';\n",
              "          dataTable['output_type'] = 'display_data';\n",
              "          await google.colab.output.renderOutput(dataTable, element);\n",
              "          const docLink = document.createElement('div');\n",
              "          docLink.innerHTML = docLinkHtml;\n",
              "          element.appendChild(docLink);\n",
              "        }\n",
              "      </script>\n",
              "    </div>\n",
              "  </div>\n",
              "  "
            ]
          },
          "metadata": {},
          "execution_count": 3
        }
      ]
    },
    {
      "cell_type": "code",
      "source": [
        "# loading the images in vector format\n",
        "img = np.load('/content/drive/My Drive/crowd-counting/images.npy')\n",
        "#img = img.reshape(img.shape[0], img.shape[1], img.shape[2], img.shape[3],1)\n",
        "img.shape"
      ],
      "metadata": {
        "id": "zwePTnjoFurX",
        "outputId": "812f8926-f595-422f-ce01-334603ab6211",
        "execution": {
          "iopub.status.busy": "2022-08-06T20:15:40.108610Z",
          "iopub.execute_input": "2022-08-06T20:15:40.108978Z",
          "iopub.status.idle": "2022-08-06T20:15:55.996806Z",
          "shell.execute_reply.started": "2022-08-06T20:15:40.108942Z",
          "shell.execute_reply": "2022-08-06T20:15:55.995852Z"
        },
        "trusted": true,
        "colab": {
          "base_uri": "https://localhost:8080/"
        }
      },
      "execution_count": 4,
      "outputs": [
        {
          "output_type": "execute_result",
          "data": {
            "text/plain": [
              "(2000, 480, 640, 3)"
            ]
          },
          "metadata": {},
          "execution_count": 4
        }
      ]
    },
    {
      "cell_type": "code",
      "source": [
        "labels = np.array(label_df['people'])\n",
        "labels"
      ],
      "metadata": {
        "id": "uxsVm9z3FurY",
        "outputId": "0d76cd25-8dec-49ad-b4ad-aa6a5c867a11",
        "execution": {
          "iopub.status.busy": "2022-08-06T20:15:55.998789Z",
          "iopub.execute_input": "2022-08-06T20:15:55.999170Z",
          "iopub.status.idle": "2022-08-06T20:15:56.009296Z",
          "shell.execute_reply.started": "2022-08-06T20:15:55.999132Z",
          "shell.execute_reply": "2022-08-06T20:15:56.008132Z"
        },
        "trusted": true,
        "colab": {
          "base_uri": "https://localhost:8080/"
        }
      },
      "execution_count": 5,
      "outputs": [
        {
          "output_type": "execute_result",
          "data": {
            "text/plain": [
              "array([35, 41, 41, ..., 25, 26, 26])"
            ]
          },
          "metadata": {},
          "execution_count": 5
        }
      ]
    },
    {
      "cell_type": "code",
      "source": [
        "# setting features and target value\n",
        "\n",
        "x_train, x_test, y_train, y_test = train_test_split(img, labels, test_size=0.1)\n",
        "print(x_train.shape[0])\n",
        "print(x_test.shape[0])"
      ],
      "metadata": {
        "id": "I3bxT1FuFurY",
        "outputId": "0df23879-f8f9-4ddd-aaa7-b7ffe8cf960b",
        "execution": {
          "iopub.status.busy": "2022-08-06T20:15:56.011241Z",
          "iopub.execute_input": "2022-08-06T20:15:56.012147Z",
          "iopub.status.idle": "2022-08-06T20:15:56.546583Z",
          "shell.execute_reply.started": "2022-08-06T20:15:56.012101Z",
          "shell.execute_reply": "2022-08-06T20:15:56.544610Z"
        },
        "trusted": true,
        "colab": {
          "base_uri": "https://localhost:8080/"
        }
      },
      "execution_count": 6,
      "outputs": [
        {
          "output_type": "stream",
          "name": "stdout",
          "text": [
            "1800\n",
            "200\n"
          ]
        }
      ]
    },
    {
      "cell_type": "code",
      "source": [
        "!pip install split-folders"
      ],
      "metadata": {
        "id": "X6hcFS5U1el3"
      },
      "execution_count": null,
      "outputs": []
    },
    {
      "cell_type": "markdown",
      "source": [
        "### I will be using resnet upgraded for crowd counting"
      ],
      "metadata": {
        "id": "ObbHuPhXAY7_"
      }
    },
    {
      "cell_type": "markdown",
      "source": [
        "### By using resnet"
      ],
      "metadata": {
        "id": "Hs-VfRAvAY7_"
      }
    },
    {
      "cell_type": "markdown",
      "source": [
        "### Customize way # 01"
      ],
      "metadata": {
        "id": "63tMrLYBW1E0"
      }
    },
    {
      "cell_type": "code",
      "source": [
        "from tensorflow.keras.applications.resnet50 import ResNet50"
      ],
      "metadata": {
        "id": "nqIsgFRDQ_7v"
      },
      "execution_count": 7,
      "outputs": []
    },
    {
      "cell_type": "code",
      "source": [
        "resnet_model = ResNet50(\n",
        "    weights='imagenet',\n",
        "    include_top=False,  \n",
        "    input_shape=(480, 640, 3), \n",
        "    pooling='avg', \n",
        ")"
      ],
      "metadata": {
        "colab": {
          "base_uri": "https://localhost:8080/"
        },
        "id": "ksFBAcszHR84",
        "outputId": "317c895e-4704-40e4-9a58-3e9f85997b2f"
      },
      "execution_count": 8,
      "outputs": [
        {
          "output_type": "stream",
          "name": "stdout",
          "text": [
            "Downloading data from https://storage.googleapis.com/tensorflow/keras-applications/resnet/resnet50_weights_tf_dim_ordering_tf_kernels_notop.h5\n",
            "94773248/94765736 [==============================] - 1s 0us/step\n",
            "94781440/94765736 [==============================] - 1s 0us/step\n"
          ]
        }
      ]
    },
    {
      "cell_type": "code",
      "source": [
        "x = resnet_model.output\n",
        "x = Dense(1024, activation='relu')(x)\n",
        "predictions = Dense(1, activation='linear')(x)  "
      ],
      "metadata": {
        "id": "i8nfhQ1-RNOb"
      },
      "execution_count": 9,
      "outputs": []
    },
    {
      "cell_type": "code",
      "source": [
        "model = Model(inputs=resnet_model.input, outputs=predictions)\n"
      ],
      "metadata": {
        "id": "w54X30eGRSrI"
      },
      "execution_count": 10,
      "outputs": []
    },
    {
      "cell_type": "code",
      "source": [
        "k = -7\n",
        "for layer in model.layers[:k]:\n",
        "    layer.trainable = False\n",
        "print('Trainable:')\n",
        "for layer in model.layers[k:]:\n",
        "    print(layer.name)\n",
        "    layer.trainable = True\n"
      ],
      "metadata": {
        "colab": {
          "base_uri": "https://localhost:8080/"
        },
        "id": "XSd45nv8RVu-",
        "outputId": "25bdff0d-30df-4ac9-9c55-8407bea091ca"
      },
      "execution_count": 11,
      "outputs": [
        {
          "output_type": "stream",
          "name": "stdout",
          "text": [
            "Trainable:\n",
            "conv5_block3_3_conv\n",
            "conv5_block3_3_bn\n",
            "conv5_block3_add\n",
            "conv5_block3_out\n",
            "avg_pool\n",
            "dense\n",
            "dense_1\n"
          ]
        }
      ]
    },
    {
      "cell_type": "code",
      "source": [
        "import tensorflow as tf\n",
        "model.compile(loss=tf.keras.losses.Huber(), \n",
        "              optimizer=tf.keras.optimizers.Adam(), \n",
        "              metrics=['mae'])\n"
      ],
      "metadata": {
        "id": "97CmmTZzM0yK",
        "execution": {
          "iopub.status.busy": "2022-08-06T20:16:02.538584Z",
          "iopub.execute_input": "2022-08-06T20:16:02.538950Z",
          "iopub.status.idle": "2022-08-06T20:16:02.556792Z",
          "shell.execute_reply.started": "2022-08-06T20:16:02.538915Z",
          "shell.execute_reply": "2022-08-06T20:16:02.555861Z"
        },
        "trusted": true
      },
      "execution_count": 12,
      "outputs": []
    },
    {
      "cell_type": "markdown",
      "source": [
        "### Applying Callbacks"
      ],
      "metadata": {
        "id": "6sxU5pf3AY8B"
      }
    },
    {
      "cell_type": "code",
      "source": [
        "def scheduler(epoch, lr):\n",
        "  if epoch < 10:\n",
        "    return lr\n",
        "  else:\n",
        "    return lr * tf.math.exp(-0.1)"
      ],
      "metadata": {
        "id": "-Sh0aZsBEvmt"
      },
      "execution_count": 13,
      "outputs": []
    },
    {
      "cell_type": "code",
      "source": [
        "reduce_lr = tf.keras.callbacks.ReduceLROnPlateau(monitor='val_loss', factor=0.2, patience=5, min_lr=0.001)\n",
        "early_stopping = tf.keras.callbacks.EarlyStopping(monitor='loss', patience=3)\n",
        "learning_rate_scheduler = tf.keras.callbacks.LearningRateScheduler(scheduler)"
      ],
      "metadata": {
        "execution": {
          "iopub.status.busy": "2022-08-06T20:19:13.267054Z",
          "iopub.execute_input": "2022-08-06T20:19:13.267724Z",
          "iopub.status.idle": "2022-08-06T20:19:13.272586Z",
          "shell.execute_reply.started": "2022-08-06T20:19:13.267687Z",
          "shell.execute_reply": "2022-08-06T20:19:13.271651Z"
        },
        "trusted": true,
        "id": "UUBcFIBsAY8C"
      },
      "execution_count": 14,
      "outputs": []
    },
    {
      "cell_type": "code",
      "source": [
        "from google.colab import drive\n",
        "drive.mount('/content/drive')"
      ],
      "metadata": {
        "colab": {
          "base_uri": "https://localhost:8080/"
        },
        "id": "UnwYbKNzCPSu",
        "outputId": "6d61dc92-3241-4263-909c-6c5199c5f74a"
      },
      "execution_count": 1,
      "outputs": [
        {
          "output_type": "stream",
          "name": "stdout",
          "text": [
            "Mounted at /content/drive\n"
          ]
        }
      ]
    },
    {
      "cell_type": "code",
      "source": [
        "history = model.fit(x_train,\n",
        "          y_train, \n",
        "          validation_data=(x_test, y_test),\n",
        "          epochs=20,\n",
        "          batch_size=8,             \n",
        "        )"
      ],
      "metadata": {
        "id": "Kh0-odb2NH52",
        "execution": {
          "iopub.status.busy": "2022-08-06T20:19:17.119559Z",
          "iopub.execute_input": "2022-08-06T20:19:17.121943Z",
          "iopub.status.idle": "2022-08-06T20:56:29.163394Z",
          "shell.execute_reply.started": "2022-08-06T20:19:17.121907Z",
          "shell.execute_reply": "2022-08-06T20:56:29.162460Z"
        },
        "trusted": true
      },
      "execution_count": null,
      "outputs": []
    },
    {
      "cell_type": "code",
      "source": [
        "# Check libcudnn8 version\n",
        "!apt-cache policy libcudnn8\n",
        "\n",
        "# Install latest version\n",
        "!apt install --allow-change-held-packages libcudnn8=8.4.1.50-1+cuda11.6\n",
        "\n",
        "# Export env variables\n",
        "!export PATH=/usr/local/cuda-11.4/bin${PATH:+:${PATH}}\n",
        "!export LD_LIBRARY_PATH=/usr/local/cuda-11.4/lib64:$LD_LIBRARY_PATH\n",
        "!export LD_LIBRARY_PATH=/usr/local/cuda-11.4/include:$LD_LIBRARY_PATH\n",
        "!export LD_LIBRARY_PATH=$LD_LIBRARY_PATH:/usr/local/cuda/extras/CUPTI/lib64\n",
        "\n",
        "# Install tensorflow\n",
        "!pip install tflite-model-maker==0.4.0\n",
        "!pip uninstall -y tensorflow && pip install -q tensorflow==2.9.1\n",
        "!pip install pycocotools==2.0.4\n",
        "!pip install opencv-python-headless==4.6.0.66\n"
      ],
      "metadata": {
        "id": "UwIUEpErxwmb"
      },
      "execution_count": null,
      "outputs": []
    },
    {
      "cell_type": "markdown",
      "source": [
        "### Scores for resnet50"
      ],
      "metadata": {
        "id": "nDbVvvxFKVYK"
      }
    },
    {
      "cell_type": "code",
      "source": [
        "# model error on training dataset\n",
        "score = model.evaluate(x_train,\n",
        "                              y_train,\n",
        "                              verbose = 0)\n",
        "print(\"\\nTrain error: %.1f%%\" % (100.0 * score[1]))"
      ],
      "metadata": {
        "colab": {
          "base_uri": "https://localhost:8080/"
        },
        "id": "L93v3nu7Kq8t",
        "outputId": "99949d59-0f5e-46f7-ce91-2996c60e3e2b"
      },
      "execution_count": null,
      "outputs": [
        {
          "output_type": "stream",
          "name": "stdout",
          "text": [
            "\n",
            "Train error: 3122.7%\n"
          ]
        }
      ]
    },
    {
      "cell_type": "code",
      "source": [
        "# model error on test dataset\n",
        "score = model.evaluate(x_test,\n",
        "                              y_test,\n",
        "                              verbose = 0)\n",
        "print(\"\\nTest error: %.1f%%\" % (100.0 * score[1]))"
      ],
      "metadata": {
        "colab": {
          "base_uri": "https://localhost:8080/"
        },
        "id": "N53_ZGszLGQx",
        "outputId": "161f4548-c859-4208-f0d9-bcc462fab82d"
      },
      "execution_count": null,
      "outputs": [
        {
          "output_type": "stream",
          "name": "stdout",
          "text": [
            "\n",
            "Test error: 3087.7%\n"
          ]
        }
      ]
    },
    {
      "cell_type": "code",
      "source": [
        "eval_score = model.evaluate(x_test, y_test)\n",
        "print(\"Test loss:\", eval_score[0])\n",
        "print(\"Test error:\", eval_score[1])"
      ],
      "metadata": {
        "colab": {
          "base_uri": "https://localhost:8080/"
        },
        "id": "yOzoESVmLh_F",
        "outputId": "59d8784e-7ff3-46fc-f165-08481961b314"
      },
      "execution_count": null,
      "outputs": [
        {
          "output_type": "stream",
          "name": "stdout",
          "text": [
            "13/13 [==============================] - 7s 555ms/step - loss: 1005.2656 - mae: 30.8765\n",
            "Test loss: 1005.265625\n",
            "Test error: 30.876514434814453\n"
          ]
        }
      ]
    },
    {
      "cell_type": "markdown",
      "source": [
        "### Graphs"
      ],
      "metadata": {
        "id": "dxZBg-yrAY8D"
      }
    },
    {
      "cell_type": "markdown",
      "source": [
        "### Loss vs error graphs"
      ],
      "metadata": {
        "id": "bH5eTusRAY8E"
      }
    },
    {
      "cell_type": "code",
      "source": [
        "plt.plot(history.history['mae'])\n",
        "plt.plot(history.history['val_mae'])\n",
        "plt.title('model error per epoch')\n",
        "plt.ylabel('mae')\n",
        "plt.xlabel('epoch')\n",
        "plt.legend(['train', 'test'], loc='upper left')\n",
        "plt.show()"
      ],
      "metadata": {
        "execution": {
          "iopub.status.busy": "2022-08-06T21:29:30.891605Z",
          "iopub.execute_input": "2022-08-06T21:29:30.892017Z",
          "iopub.status.idle": "2022-08-06T21:29:31.114722Z",
          "shell.execute_reply.started": "2022-08-06T21:29:30.891984Z",
          "shell.execute_reply": "2022-08-06T21:29:31.113794Z"
        },
        "trusted": true,
        "id": "H_eu6sMHAY8E"
      },
      "execution_count": null,
      "outputs": []
    },
    {
      "cell_type": "code",
      "source": [
        "plt.plot(history.history['loss'])\n",
        "plt.plot(history.history['val_loss'])\n",
        "plt.title('model loss per epoch')\n",
        "plt.ylabel('loss')\n",
        "plt.xlabel('epoch')\n",
        "plt.legend(['train', 'test'], loc='upper left')\n",
        "plt.show()"
      ],
      "metadata": {
        "execution": {
          "iopub.status.busy": "2022-08-06T21:29:54.108433Z",
          "iopub.execute_input": "2022-08-06T21:29:54.108897Z",
          "iopub.status.idle": "2022-08-06T21:29:54.326699Z",
          "shell.execute_reply.started": "2022-08-06T21:29:54.108825Z",
          "shell.execute_reply": "2022-08-06T21:29:54.325748Z"
        },
        "trusted": true,
        "id": "N-Q6U-LXAY8E"
      },
      "execution_count": null,
      "outputs": []
    },
    {
      "cell_type": "markdown",
      "source": [
        "### ResNet50 model prediction"
      ],
      "metadata": {
        "id": "jU04UpGins6r"
      }
    },
    {
      "cell_type": "code",
      "source": [
        "re = model.predict(x_train)\n",
        "print('Training set --')\n",
        "print('    ground truth: ', np.sum(y_train, axis=0))\n",
        "print('  evaluate count: ', np.sum(re*(re>0.3), axis=0).astype('int'))\n",
        "\n",
        "re = model.predict(x_test)\n",
        "print('Testing set --')\n",
        "print('    ground truth: ', np.sum(y_test, axis=0))\n",
        "print('   predict count: ', np.sum(re*(re>0.3), axis=0).astype('int'))"
      ],
      "metadata": {
        "id": "oUqZEJaknwbM"
      },
      "execution_count": null,
      "outputs": []
    },
    {
      "cell_type": "markdown",
      "source": [
        "### By using efficientnetb0"
      ],
      "metadata": {
        "id": "8mu1-ghthU0D"
      }
    },
    {
      "cell_type": "code",
      "source": [
        "from tensorflow.keras.applications.efficientnet import EfficientNetB0"
      ],
      "metadata": {
        "id": "7hL0kRy3hXoN"
      },
      "execution_count": null,
      "outputs": []
    },
    {
      "cell_type": "code",
      "source": [
        "efficientnetb0_model = EfficientNetB0(\n",
        "    weights='imagenet',\n",
        "    include_top=False,  \n",
        "    input_shape=(480, 640, 3), \n",
        "    pooling='avg', \n",
        ")"
      ],
      "metadata": {
        "id": "Mh6f0j3Djo4s"
      },
      "execution_count": null,
      "outputs": []
    },
    {
      "cell_type": "code",
      "source": [
        "x = efficientnetb0_model.output\n",
        "x = Dense(1024, activation='relu')(x)\n",
        "predictions = Dense(1, activation='softmax')(x)  "
      ],
      "metadata": {
        "id": "CJiKHRvqjxcd"
      },
      "execution_count": null,
      "outputs": []
    },
    {
      "cell_type": "code",
      "source": [
        "model = Model(inputs=efficientnetb0_model.input, outputs=predictions)"
      ],
      "metadata": {
        "id": "Z_lIpcTvMkdf"
      },
      "execution_count": null,
      "outputs": []
    },
    {
      "cell_type": "code",
      "source": [
        "k = -7\n",
        "for layer in model.layers[:k]:\n",
        "    layer.trainable = False\n",
        "print('Trainable:')\n",
        "for layer in model.layers[k:]:\n",
        "    print(layer.name)\n",
        "    layer.trainable = True"
      ],
      "metadata": {
        "id": "691AMaBPMpxV"
      },
      "execution_count": null,
      "outputs": []
    },
    {
      "cell_type": "code",
      "source": [
        "import tensorflow as tf\n",
        "model.compile(loss=tf.keras.losses.Huber(), \n",
        "              optimizer=tf.keras.optimizers.Adam(), \n",
        "              metrics=['mae'])"
      ],
      "metadata": {
        "id": "XuwI55vvMsMf"
      },
      "execution_count": null,
      "outputs": []
    },
    {
      "cell_type": "code",
      "source": [
        "history = model.fit(x_train,\n",
        "          y_train, \n",
        "          validation_data=(x_test, y_test),\n",
        "          epochs=20,\n",
        "          batch_size=8,\n",
        "          callbacks = [reduce_lr, early_stopping, learning_rate_scheduler]             \n",
        "        )"
      ],
      "metadata": {
        "id": "QLn_B7pvMy71"
      },
      "execution_count": null,
      "outputs": []
    },
    {
      "cell_type": "markdown",
      "source": [
        "### Scores for efficientnetb0"
      ],
      "metadata": {
        "id": "JmYVID91pItk"
      }
    },
    {
      "cell_type": "code",
      "source": [
        "# model error on training dataset\n",
        "score = model.evaluate(x_train,\n",
        "                              y_train,\n",
        "                              verbose = 0)\n",
        "print(\"\\nTrain error: %.1f%%\" % (100.0 * score[1]))"
      ],
      "metadata": {
        "id": "s0nuQb5KpOj1"
      },
      "execution_count": null,
      "outputs": []
    },
    {
      "cell_type": "code",
      "source": [
        "# model error on test dataset\n",
        "score = model.evaluate(x_test,\n",
        "                              y_test,\n",
        "                              verbose = 0)\n",
        "print(\"\\nTest error: %.1f%%\" % (100.0 * score[1]))"
      ],
      "metadata": {
        "id": "-JAohhd9pV_1"
      },
      "execution_count": null,
      "outputs": []
    },
    {
      "cell_type": "code",
      "source": [
        "eval_score = model.evaluate(x_test, y_test)\n",
        "print(\"Test loss:\", eval_score[0])\n",
        "print(\"Test error:\", eval_score[1])"
      ],
      "metadata": {
        "id": "l3PrBsSCpdJ6"
      },
      "execution_count": null,
      "outputs": []
    },
    {
      "cell_type": "markdown",
      "source": [
        "### Graphs"
      ],
      "metadata": {
        "id": "YVOtu5b0piEi"
      }
    },
    {
      "cell_type": "markdown",
      "source": [
        "### Error vs accuracy grapghs"
      ],
      "metadata": {
        "id": "bV3y8ey5plcr"
      }
    },
    {
      "cell_type": "code",
      "source": [
        "plt.plot(history.history['mae'])\n",
        "plt.plot(history.history['val_mae'])\n",
        "plt.title('model error per epoch')\n",
        "plt.ylabel('mae')\n",
        "plt.xlabel('epoch')\n",
        "plt.legend(['train', 'test'], loc='upper left')\n",
        "plt.show()"
      ],
      "metadata": {
        "id": "HbfQNShOpqqp"
      },
      "execution_count": null,
      "outputs": []
    },
    {
      "cell_type": "code",
      "source": [
        "plt.plot(history.history['loss'])\n",
        "plt.plot(history.history['val_loss'])\n",
        "plt.title('model loss per epoch')\n",
        "plt.ylabel('loss')\n",
        "plt.xlabel('epoch')\n",
        "plt.legend(['train', 'test'], loc='upper left')\n",
        "plt.show()"
      ],
      "metadata": {
        "id": "4RMVAZKLp2Zo"
      },
      "execution_count": null,
      "outputs": []
    },
    {
      "cell_type": "markdown",
      "source": [
        "### EfficientNetB0 model prediction"
      ],
      "metadata": {
        "id": "s9zPPuZRTQy-"
      }
    },
    {
      "cell_type": "code",
      "source": [
        "result = model.predict(x_train)\n",
        "print('Training set --')\n",
        "print('    ground truth: ', np.sum(y_train, axis=0))\n",
        "print('  evaluate count: ', np.sum(result*(result>0.3), axis=0).astype('int'))\n",
        "\n",
        "result = model.predict(x_test)\n",
        "print('Testing set --')\n",
        "print('    ground truth: ', np.sum(y_test, axis=0))\n",
        "print('   predict count: ', np.sum(result*(result>0.3), axis=0).astype('int'))"
      ],
      "metadata": {
        "id": "c3yJ2xHmCDna"
      },
      "execution_count": null,
      "outputs": []
    }
  ]
}